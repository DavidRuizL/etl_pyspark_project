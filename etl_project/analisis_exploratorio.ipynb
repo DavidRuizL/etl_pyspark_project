{
  "nbformat": 4,
  "nbformat_minor": 0,
  "metadata": {
    "colab": {
      "provenance": []
    },
    "kernelspec": {
      "name": "python3",
      "display_name": "Python 3"
    },
    "language_info": {
      "name": "python"
    }
  },
  "cells": [
    {
      "cell_type": "markdown",
      "source": [
        "## Librerías y funciones"
      ],
      "metadata": {
        "id": "CmJ8-2s8_dmC"
      }
    },
    {
      "cell_type": "code",
      "source": [
        "from google.colab import drive\n",
        "drive.mount('/content/drive')"
      ],
      "metadata": {
        "colab": {
          "base_uri": "https://localhost:8080/"
        },
        "id": "33sRROCt9XGC",
        "outputId": "bf5beb6b-fa7d-4c9b-d544-e877c1a3b70a"
      },
      "execution_count": 7,
      "outputs": [
        {
          "output_type": "stream",
          "name": "stdout",
          "text": [
            "Drive already mounted at /content/drive; to attempt to forcibly remount, call drive.mount(\"/content/drive\", force_remount=True).\n"
          ]
        }
      ]
    },
    {
      "cell_type": "code",
      "execution_count": 8,
      "metadata": {
        "colab": {
          "base_uri": "https://localhost:8080/"
        },
        "collapsed": true,
        "id": "lZddWMAhMU2R",
        "outputId": "230816f7-3e43-40b5-a5e1-21e1d6271dc9"
      },
      "outputs": [
        {
          "output_type": "stream",
          "name": "stdout",
          "text": [
            "Requirement already satisfied: pandas in /usr/local/lib/python3.10/dist-packages (2.2.2)\n",
            "Requirement already satisfied: openpyxl in /usr/local/lib/python3.10/dist-packages (3.1.5)\n",
            "Requirement already satisfied: numpy>=1.22.4 in /usr/local/lib/python3.10/dist-packages (from pandas) (1.26.4)\n",
            "Requirement already satisfied: python-dateutil>=2.8.2 in /usr/local/lib/python3.10/dist-packages (from pandas) (2.8.2)\n",
            "Requirement already satisfied: pytz>=2020.1 in /usr/local/lib/python3.10/dist-packages (from pandas) (2024.2)\n",
            "Requirement already satisfied: tzdata>=2022.7 in /usr/local/lib/python3.10/dist-packages (from pandas) (2024.2)\n",
            "Requirement already satisfied: et-xmlfile in /usr/local/lib/python3.10/dist-packages (from openpyxl) (2.0.0)\n",
            "Requirement already satisfied: six>=1.5 in /usr/local/lib/python3.10/dist-packages (from python-dateutil>=2.8.2->pandas) (1.16.0)\n"
          ]
        }
      ],
      "source": [
        "!pip install pandas openpyxl\n",
        "\n",
        "import pandas as pd\n",
        "import pandas as pd\n",
        "import re\n",
        "import numpy as np"
      ]
    },
    {
      "cell_type": "code",
      "source": [
        "def limpiar_columnas_principalmente_numericas(df, threshold=0.8):\n",
        "    \"\"\"\n",
        "    Identifica y limpia columnas que son principalmente numéricas, considerando espacios en blanco.\n",
        "\n",
        "    Parameters:\n",
        "    - df: DataFrame en pandas.\n",
        "    - threshold: Proporción mínima de valores numéricos en la columna para considerarla \"principalmente numérica\".\n",
        "\n",
        "    Returns:\n",
        "    - DataFrame con las columnas numéricas limpiadas.\n",
        "    - Lista de columnas que fueron transformadas.\n",
        "    \"\"\"\n",
        "    columnas_numericas_limpias = []\n",
        "\n",
        "    for columna in df.columns:\n",
        "        # Contamos valores que contienen solo números, comas, puntos o espacios\n",
        "        valid_numeric_count = df[columna].astype(str).apply(lambda x: bool(re.match(r'^[0-9.,\\s]*$', x))).sum()\n",
        "        total_count = df[columna].notna().sum()\n",
        "\n",
        "        # Verifica si la columna es \"principalmente numérica\" usando el umbral especificado\n",
        "        if total_count > 0 and (valid_numeric_count / total_count) >= threshold:\n",
        "            # Agrega a la lista de columnas principalmente numéricas\n",
        "            columnas_numericas_limpias.append(columna)\n",
        "\n",
        "            # Limpia valores dejando solo números, comas y puntos (removemos espacios en blanco)\n",
        "            df[columna] = df[columna].astype(str).apply(lambda x: re.sub(r'[^0-9.,]', '', x))\n",
        "\n",
        "            # Convierte la columna a numérica, asignando NaN a los valores no convertibles\n",
        "            df[columna] = pd.to_numeric(df[columna], errors='coerce')\n",
        "\n",
        "    return df, columnas_numericas_limpias"
      ],
      "metadata": {
        "id": "EhVIK0___vB5"
      },
      "execution_count": 9,
      "outputs": []
    },
    {
      "cell_type": "code",
      "source": [
        "def eliminar_espacios_columnas(df):\n",
        "    # Eliminar espacios en los nombres de las columnas\n",
        "    df.columns = df.columns.str.replace(' ', '', regex=False)\n",
        "    return df"
      ],
      "metadata": {
        "id": "m6zAWVrH_u_a"
      },
      "execution_count": 10,
      "outputs": []
    },
    {
      "cell_type": "markdown",
      "source": [
        "## Carga de datos"
      ],
      "metadata": {
        "id": "YlmrC50a_0KV"
      }
    },
    {
      "cell_type": "code",
      "source": [
        "# Ruta al archivo Excel\n",
        "file_path = '/content/drive/MyDrive/Proyectos de datos/Prueba_tecnica/Films_2.xlsx'\n",
        "\n",
        "# Leer el archivo Excel\n",
        "excel_file = pd.ExcelFile(file_path)\n",
        "\n",
        "# Obtener el nombre de todas las hojas (páginas)\n",
        "sheet_names = excel_file.sheet_names\n",
        "print(\"Hojas disponibles:\", sheet_names)"
      ],
      "metadata": {
        "id": "-xWeoie4NOMz",
        "colab": {
          "base_uri": "https://localhost:8080/"
        },
        "outputId": "aa725acd-06af-43c4-88aa-bfdf8e4ef773"
      },
      "execution_count": 11,
      "outputs": [
        {
          "output_type": "stream",
          "name": "stdout",
          "text": [
            "Hojas disponibles: ['MER', 'film', 'inventory', 'rental', 'customer', 'store']\n"
          ]
        }
      ]
    },
    {
      "cell_type": "code",
      "source": [
        "df_film = pd.read_excel(file_path, sheet_name=1)\n",
        "df_inventory = pd.read_excel(file_path, sheet_name=2)\n",
        "df_rental = pd.read_excel(file_path, sheet_name=3)\n",
        "df_customer = pd.read_excel(file_path, sheet_name=4)\n",
        "df_store = pd.read_excel(file_path, sheet_name=5)"
      ],
      "metadata": {
        "id": "zMZGNNKlNOKL"
      },
      "execution_count": 12,
      "outputs": []
    },
    {
      "cell_type": "markdown",
      "source": [
        "## Análisis exploratorio"
      ],
      "metadata": {
        "id": "5OcBS7-X_-Is"
      }
    },
    {
      "cell_type": "code",
      "source": [
        "print(\"Dimensiones Store:\", df_store.shape)\n",
        "print(\"Dimensiones Customer:\", df_customer.shape)\n",
        "print(\"Dimensiones Rental:\", df_rental.shape)\n",
        "print(\"Dimensiones Inventory:\", df_inventory.shape)\n",
        "print(\"Dimensiones Film:\", df_film.shape)"
      ],
      "metadata": {
        "id": "zhefP_mnPqMa",
        "colab": {
          "base_uri": "https://localhost:8080/"
        },
        "outputId": "f050d9b1-5c2b-4015-db12-e9265d6d71fe"
      },
      "execution_count": 13,
      "outputs": [
        {
          "output_type": "stream",
          "name": "stdout",
          "text": [
            "Dimensiones Store: (2, 4)\n",
            "Dimensiones Customer: (1392, 11)\n",
            "Dimensiones Rental: (16044, 7)\n",
            "Dimensiones Inventory: (4581, 4)\n",
            "Dimensiones Film: (1003, 14)\n"
          ]
        }
      ]
    },
    {
      "cell_type": "code",
      "source": [
        "print(df_rental.info())\n",
        "print(df_inventory.info())\n",
        "print(df_film.info())\n",
        "print(df_store.info())\n",
        "print(df_customer.info())"
      ],
      "metadata": {
        "colab": {
          "base_uri": "https://localhost:8080/"
        },
        "collapsed": true,
        "id": "cA4UaLq1xVqb",
        "outputId": "43004875-e922-4aee-f12d-65434b6434d1"
      },
      "execution_count": null,
      "outputs": [
        {
          "output_type": "stream",
          "name": "stdout",
          "text": [
            "<class 'pandas.core.frame.DataFrame'>\n",
            "RangeIndex: 16044 entries, 0 to 16043\n",
            "Data columns (total 7 columns):\n",
            " #   Column         Non-Null Count  Dtype \n",
            "---  ------         --------------  ----- \n",
            " 0   rental_id      16044 non-null  int64 \n",
            " 1    rental_date   16044 non-null  object\n",
            " 2    inventory_id  16044 non-null  int64 \n",
            " 3    customer_id   16044 non-null  int64 \n",
            " 4    return_date   16044 non-null  object\n",
            " 5    staff_id      16044 non-null  int64 \n",
            " 6    last_update   16044 non-null  object\n",
            "dtypes: int64(4), object(3)\n",
            "memory usage: 877.5+ KB\n",
            "None\n",
            "<class 'pandas.core.frame.DataFrame'>\n",
            "RangeIndex: 4581 entries, 0 to 4580\n",
            "Data columns (total 4 columns):\n",
            " #   Column        Non-Null Count  Dtype \n",
            "---  ------        --------------  ----- \n",
            " 0   inventory_id  4581 non-null   int64 \n",
            " 1   film_id       4581 non-null   int64 \n",
            " 2    store_id     4581 non-null   object\n",
            " 3    last_update  4581 non-null   object\n",
            "dtypes: int64(2), object(2)\n",
            "memory usage: 143.3+ KB\n",
            "None\n",
            "<class 'pandas.core.frame.DataFrame'>\n",
            "RangeIndex: 1003 entries, 0 to 1002\n",
            "Data columns (total 14 columns):\n",
            " #   Column                 Non-Null Count  Dtype \n",
            "---  ------                 --------------  ----- \n",
            " 0   film_id                1003 non-null   object\n",
            " 1    title                 1003 non-null   object\n",
            " 2    description           1003 non-null   object\n",
            " 3    release_year          1003 non-null   object\n",
            " 4    language_id           1003 non-null   int64 \n",
            " 5    original_language_id  1003 non-null   object\n",
            " 6    rental_duration       1003 non-null   int64 \n",
            " 7    rental_rate           1003 non-null   object\n",
            " 8    length                1003 non-null   object\n",
            " 9    replacement_cost      1003 non-null   object\n",
            " 10   num_voted_users       1003 non-null   object\n",
            " 11   rating                1003 non-null   object\n",
            " 12   special_features      1003 non-null   object\n",
            " 13  last_update            1003 non-null   object\n",
            "dtypes: int64(2), object(12)\n",
            "memory usage: 109.8+ KB\n",
            "None\n",
            "<class 'pandas.core.frame.DataFrame'>\n",
            "RangeIndex: 2 entries, 0 to 1\n",
            "Data columns (total 4 columns):\n",
            " #   Column            Non-Null Count  Dtype \n",
            "---  ------            --------------  ----- \n",
            " 0   store_id          2 non-null      int64 \n",
            " 1   manager_staff_id  2 non-null      int64 \n",
            " 2    address_id       2 non-null      int64 \n",
            " 3    last_update      2 non-null      object\n",
            "dtypes: int64(3), object(1)\n",
            "memory usage: 192.0+ bytes\n",
            "None\n",
            "<class 'pandas.core.frame.DataFrame'>\n",
            "RangeIndex: 1392 entries, 0 to 1391\n",
            "Data columns (total 11 columns):\n",
            " #   Column            Non-Null Count  Dtype \n",
            "---  ------            --------------  ----- \n",
            " 0   customer_id       1392 non-null   int64 \n",
            " 1    store_id         1392 non-null   int64 \n",
            " 2    first_name       1392 non-null   object\n",
            " 3    last_name        1392 non-null   object\n",
            " 4    email            1392 non-null   object\n",
            " 5    address_id       1392 non-null   int64 \n",
            " 6    active           1392 non-null   int64 \n",
            " 7    create_date      1392 non-null   object\n",
            " 8    last_update      1392 non-null   object\n",
            " 9    customer_id_old  1392 non-null   object\n",
            " 10   segment          1392 non-null   object\n",
            "dtypes: int64(4), object(7)\n",
            "memory usage: 119.8+ KB\n",
            "None\n"
          ]
        }
      ]
    },
    {
      "cell_type": "markdown",
      "source": [
        "Se puede observar como los nombres de las columnas tienen espacios en blanque que dificultan el tratamiento de la informacion, por lo que es necesario eliminarlas,\n",
        "\n",
        "Adicionalmente es necesario verificar el formato de las columnas, dado que segun el diagrama MER el tipo de datos esta errado.\n",
        "\n",
        "Es necesario eliminar comvertir los valores nulos."
      ],
      "metadata": {
        "id": "CfY6X701unM1"
      }
    },
    {
      "cell_type": "markdown",
      "source": [
        "### Limpieza de datos"
      ],
      "metadata": {
        "id": "x8SLkxKRAbpK"
      }
    },
    {
      "cell_type": "code",
      "source": [
        "dataframes = [df_store, df_customer, df_rental, df_inventory, df_film]\n",
        "for i, df in enumerate(dataframes):\n",
        "    df_limpio = eliminar_espacios_columnas(df)\n",
        "    df_limpio, columnas_identificadas = limpiar_columnas_principalmente_numericas(df_limpio)\n",
        "    df.replace(r'^\\s*(NULL|N/A)?\\s*$', np.nan, regex=True, inplace=True)\n",
        "    df = df.drop_duplicates()\n",
        "    #print(f\"DataFrame limpio {i+1}:\\n\", df)\n",
        "    print(f\"Columnas principalmente numéricas que fueron transformadas en DataFrame {i+1}:\\n\", columnas_identificadas)"
      ],
      "metadata": {
        "id": "GZgHZeSU31io",
        "colab": {
          "base_uri": "https://localhost:8080/"
        },
        "outputId": "b3af6c43-733c-493a-9040-42a3c06580eb"
      },
      "execution_count": 14,
      "outputs": [
        {
          "output_type": "stream",
          "name": "stdout",
          "text": [
            "Columnas principalmente numéricas que fueron transformadas en DataFrame 1:\n",
            " ['store_id', 'manager_staff_id', 'address_id']\n",
            "Columnas principalmente numéricas que fueron transformadas en DataFrame 2:\n",
            " ['customer_id', 'store_id', 'address_id', 'active']\n",
            "Columnas principalmente numéricas que fueron transformadas en DataFrame 3:\n",
            " ['rental_id', 'inventory_id', 'customer_id', 'staff_id']\n",
            "Columnas principalmente numéricas que fueron transformadas en DataFrame 4:\n",
            " ['inventory_id', 'film_id', 'store_id']\n",
            "Columnas principalmente numéricas que fueron transformadas en DataFrame 5:\n",
            " ['film_id', 'release_year', 'language_id', 'rental_duration', 'rental_rate', 'length', 'replacement_cost', 'num_voted_users']\n"
          ]
        },
        {
          "output_type": "stream",
          "name": "stderr",
          "text": [
            "<ipython-input-14-cd0af26ed558>:5: FutureWarning: Downcasting behavior in `replace` is deprecated and will be removed in a future version. To retain the old behavior, explicitly call `result.infer_objects(copy=False)`. To opt-in to the future behavior, set `pd.set_option('future.no_silent_downcasting', True)`\n",
            "  df.replace(r'^\\s*(NULL|N/A)?\\s*$', np.nan, regex=True, inplace=True)\n"
          ]
        }
      ]
    },
    {
      "cell_type": "code",
      "source": [
        "print(df_customer.info())\n",
        "print(df_rental.info())\n",
        "print(df_inventory.info())\n",
        "print(df_film.info())\n",
        "print(df_store.info())"
      ],
      "metadata": {
        "colab": {
          "base_uri": "https://localhost:8080/"
        },
        "id": "mla8gNFwD4fO",
        "outputId": "9a612dd5-64fe-4cda-d459-8b8ef6cad0cc",
        "collapsed": true
      },
      "execution_count": 15,
      "outputs": [
        {
          "output_type": "stream",
          "name": "stdout",
          "text": [
            "<class 'pandas.core.frame.DataFrame'>\n",
            "RangeIndex: 1392 entries, 0 to 1391\n",
            "Data columns (total 11 columns):\n",
            " #   Column           Non-Null Count  Dtype \n",
            "---  ------           --------------  ----- \n",
            " 0   customer_id      1392 non-null   int64 \n",
            " 1   store_id         1392 non-null   int64 \n",
            " 2   first_name       1392 non-null   object\n",
            " 3   last_name        1391 non-null   object\n",
            " 4   email            1392 non-null   object\n",
            " 5   address_id       1392 non-null   int64 \n",
            " 6   active           1392 non-null   int64 \n",
            " 7   create_date      1392 non-null   object\n",
            " 8   last_update      1392 non-null   object\n",
            " 9   customer_id_old  793 non-null    object\n",
            " 10  segment          793 non-null    object\n",
            "dtypes: int64(4), object(7)\n",
            "memory usage: 119.8+ KB\n",
            "None\n",
            "<class 'pandas.core.frame.DataFrame'>\n",
            "RangeIndex: 16044 entries, 0 to 16043\n",
            "Data columns (total 7 columns):\n",
            " #   Column        Non-Null Count  Dtype \n",
            "---  ------        --------------  ----- \n",
            " 0   rental_id     16044 non-null  int64 \n",
            " 1   rental_date   16044 non-null  object\n",
            " 2   inventory_id  16044 non-null  int64 \n",
            " 3   customer_id   16044 non-null  int64 \n",
            " 4   return_date   15861 non-null  object\n",
            " 5   staff_id      16044 non-null  int64 \n",
            " 6   last_update   16044 non-null  object\n",
            "dtypes: int64(4), object(3)\n",
            "memory usage: 877.5+ KB\n",
            "None\n",
            "<class 'pandas.core.frame.DataFrame'>\n",
            "RangeIndex: 4581 entries, 0 to 4580\n",
            "Data columns (total 4 columns):\n",
            " #   Column        Non-Null Count  Dtype \n",
            "---  ------        --------------  ----- \n",
            " 0   inventory_id  4581 non-null   int64 \n",
            " 1   film_id       4581 non-null   int64 \n",
            " 2   store_id      4581 non-null   int64 \n",
            " 3   last_update   4581 non-null   object\n",
            "dtypes: int64(3), object(1)\n",
            "memory usage: 143.3+ KB\n",
            "None\n",
            "<class 'pandas.core.frame.DataFrame'>\n",
            "RangeIndex: 1003 entries, 0 to 1002\n",
            "Data columns (total 14 columns):\n",
            " #   Column                Non-Null Count  Dtype  \n",
            "---  ------                --------------  -----  \n",
            " 0   film_id               1003 non-null   int64  \n",
            " 1   title                 1003 non-null   object \n",
            " 2   description           1003 non-null   object \n",
            " 3   release_year          1003 non-null   int64  \n",
            " 4   language_id           1003 non-null   int64  \n",
            " 5   original_language_id  0 non-null      float64\n",
            " 6   rental_duration       1003 non-null   int64  \n",
            " 7   rental_rate           1003 non-null   float64\n",
            " 8   length                1003 non-null   int64  \n",
            " 9   replacement_cost      1003 non-null   float64\n",
            " 10  num_voted_users       1003 non-null   int64  \n",
            " 11  rating                1003 non-null   object \n",
            " 12  special_features      1003 non-null   object \n",
            " 13  last_update           1003 non-null   object \n",
            "dtypes: float64(3), int64(6), object(5)\n",
            "memory usage: 109.8+ KB\n",
            "None\n",
            "<class 'pandas.core.frame.DataFrame'>\n",
            "RangeIndex: 2 entries, 0 to 1\n",
            "Data columns (total 4 columns):\n",
            " #   Column            Non-Null Count  Dtype \n",
            "---  ------            --------------  ----- \n",
            " 0   store_id          2 non-null      int64 \n",
            " 1   manager_staff_id  2 non-null      int64 \n",
            " 2   address_id        2 non-null      int64 \n",
            " 3   last_update       2 non-null      object\n",
            "dtypes: int64(3), object(1)\n",
            "memory usage: 192.0+ bytes\n",
            "None\n"
          ]
        }
      ]
    },
    {
      "cell_type": "markdown",
      "source": [
        "Se observa como fueron eliminadas las inconsistencias presentes en todas las columnas"
      ],
      "metadata": {
        "id": "x7qlNaJKApWO"
      }
    },
    {
      "cell_type": "code",
      "source": [
        "import seaborn as sns\n",
        "import matplotlib.pyplot as plt\n",
        "import numpy as np\n",
        "\n",
        "plt.figure(figsize=(10,6))\n",
        "sns.heatmap(df_rental.isnull(), cbar=False, cmap=\"viridis\")\n",
        "plt.title(\"Mapa de calor de valores nulos\")\n",
        "plt.show()"
      ],
      "metadata": {
        "id": "6Tmf9A03QC23",
        "colab": {
          "base_uri": "https://localhost:8080/",
          "height": 545
        },
        "outputId": "357789ed-5c3b-46be-f4f0-1de60daacfca"
      },
      "execution_count": null,
      "outputs": [
        {
          "output_type": "display_data",
          "data": {
            "text/plain": [
              "<Figure size 1000x600 with 1 Axes>"
            ],
            "image/png": "[encoded data removed]"
          },
          "metadata": {}
        }
      ]
    },
    {
      "cell_type": "markdown",
      "source": [
        "### Frecuencias y tendencias"
      ],
      "metadata": {
        "id": "_2_mq84RAzg_"
      }
    },
    {
      "cell_type": "code",
      "source": [
        "#Frecuencia de clientes\n",
        "\n",
        "frecuencia = df_rental.groupby(['customer_id']).size().reset_index(name='frecuencia')\n",
        "\n",
        "# Ordenamos de mayor a menor por la columna 'frecuencia'\n",
        "frecuencia = frecuencia.sort_values(by='frecuencia', ascending=False).reset_index(drop=True)\n",
        "\n",
        "# Mostramos el resultado\n",
        "print(\"Frecuencia de clientes\")\n",
        "print(frecuencia)"
      ],
      "metadata": {
        "id": "SNK9HyNEKL12",
        "colab": {
          "base_uri": "https://localhost:8080/"
        },
        "outputId": "70d08855-005b-4031-f50e-e002edd1b428"
      },
      "execution_count": null,
      "outputs": [
        {
          "output_type": "stream",
          "name": "stdout",
          "text": [
            "Frecuencia de clientes\n",
            "     customer_id  frecuencia\n",
            "0            148          46\n",
            "1            526          45\n",
            "2            144          42\n",
            "3            236          42\n",
            "4             75          41\n",
            "..           ...         ...\n",
            "594          248          15\n",
            "595          110          14\n",
            "596           61          14\n",
            "597          281          14\n",
            "598          318          12\n",
            "\n",
            "[599 rows x 2 columns]\n"
          ]
        }
      ]
    },
    {
      "cell_type": "code",
      "source": [
        "#Frecuencia películas rentadas\n",
        "\n",
        "frecuencia = df_rental.groupby(['inventory_id']).size().reset_index(name='frecuencia')\n",
        "\n",
        "# Ordenamos de mayor a menor por la columna 'frecuencia'\n",
        "frecuencia = frecuencia.sort_values(by='frecuencia', ascending=False).reset_index(drop=True)\n",
        "\n",
        "# Mostramos el resultado\n",
        "print(\"Frecuencia películas rentadas\")\n",
        "print(frecuencia)"
      ],
      "metadata": {
        "colab": {
          "base_uri": "https://localhost:8080/"
        },
        "collapsed": true,
        "id": "guWQdjg9qFM4",
        "outputId": "a55a49fb-25f2-43d1-92d5-1f0e441f3642"
      },
      "execution_count": null,
      "outputs": [
        {
          "output_type": "stream",
          "name": "stdout",
          "text": [
            "Frecuencia películas rentadas\n",
            "      inventory_id  frecuencia\n",
            "0             4581           5\n",
            "1             1083           5\n",
            "2             1113           5\n",
            "3             1111           5\n",
            "4             2897           5\n",
            "...            ...         ...\n",
            "4575          3214           2\n",
            "4576          2786           1\n",
            "4577          2662           1\n",
            "4578          1580           1\n",
            "4579          3372           1\n",
            "\n",
            "[4580 rows x 2 columns]\n"
          ]
        }
      ]
    },
    {
      "cell_type": "code",
      "source": [
        "#Frecuencia películas rentadas por tienda\n",
        "\n",
        "frecuencia = df_rental.groupby(['staff_id']).size().reset_index(name='frecuencia')\n",
        "\n",
        "# Ordenamos de mayor a menor por la columna 'frecuencia'\n",
        "frecuencia = frecuencia.sort_values(by='frecuencia', ascending=False).reset_index(drop=True)\n",
        "\n",
        "# Mostramos el resultado\n",
        "print(\"Frecuencia películas rentadas por tienda\")\n",
        "print(frecuencia)"
      ],
      "metadata": {
        "id": "IaTjljfc31gW",
        "colab": {
          "base_uri": "https://localhost:8080/"
        },
        "outputId": "78dc2c1e-644c-4d22-9103-b15669356861"
      },
      "execution_count": null,
      "outputs": [
        {
          "output_type": "stream",
          "name": "stdout",
          "text": [
            "Frecuencia películas rentadas por tienda\n",
            "   staff_id  frecuencia\n",
            "0         1        8040\n",
            "1         2        8004\n"
          ]
        }
      ]
    },
    {
      "cell_type": "code",
      "source": [
        "#Frecuencia días que se renta una película\n",
        "\n",
        "frecuencia = df_film.groupby(['rental_duration']).size().reset_index(name='frecuencia')\n",
        "\n",
        "# Ordenamos de mayor a menor por la columna 'frecuencia'\n",
        "frecuencia = frecuencia.sort_values(by='frecuencia', ascending=False).reset_index(drop=True)\n",
        "\n",
        "# Mostramos el resultado\n",
        "print(\"Frecuencia días que se renta una película\")\n",
        "print(frecuencia)"
      ],
      "metadata": {
        "id": "pSfKR08-PqE2",
        "colab": {
          "base_uri": "https://localhost:8080/"
        },
        "outputId": "7fa35029-779e-47fb-dfe5-ab6d962ef997"
      },
      "execution_count": null,
      "outputs": [
        {
          "output_type": "stream",
          "name": "stdout",
          "text": [
            "Frecuencia días que se renta una película\n",
            "   rental_duration  frecuencia\n",
            "0                6         212\n",
            "1                4         206\n",
            "2                3         203\n",
            "3                5         191\n",
            "4                7         191\n"
          ]
        }
      ]
    },
    {
      "cell_type": "code",
      "source": [
        "df_rental['rental_date'] = pd.to_datetime(df_rental['rental_date'], errors='coerce')  # Convertir a tipo datetime\n",
        "df_rental['return_date'] = pd.to_datetime(df_rental['return_date'], errors='coerce')  # Convertir a tipo datetime\n",
        "df_rental['Duracion'] = df_rental['return_date'] - df_rental['rental_date']"
      ],
      "metadata": {
        "id": "jXzsMOXZ3X7f"
      },
      "execution_count": null,
      "outputs": []
    },
    {
      "cell_type": "code",
      "source": [
        "# Boxplots de la duración de la renta en días\n",
        "\n",
        "plt.figure(figsize=(10, 6))\n",
        "sns.boxplot(data=df_rental['Duracion'])\n",
        "plt.title(\"Boxplots de la duración de la renta en días\")\n",
        "plt.show()"
      ],
      "metadata": {
        "id": "JxYlw6SGQHCH",
        "colab": {
          "base_uri": "https://localhost:8080/",
          "height": 526
        },
        "outputId": "ef28342f-de96-4217-9c62-28cb179d6fe4"
      },
      "execution_count": null,
      "outputs": [
        {
          "output_type": "display_data",
          "data": {
            "text/plain": [
              "<Figure size 1000x600 with 1 Axes>"
            ],
            "image/png": "[encoded data removed]"
          },
          "metadata": {}
        }
      ]
    },
    {
      "cell_type": "code",
      "source": [
        "plt.figure(figsize=(10, 6))\n",
        "sns.boxplot(data=df_film, x=\"rating\", y=\"rental_duration\")\n",
        "plt.title(\"Relación entre categorías y variable numérica\")\n",
        "plt.xticks(rotation=45)\n",
        "plt.show()"
      ],
      "metadata": {
        "id": "b9vkO67kQG2r",
        "colab": {
          "base_uri": "https://localhost:8080/",
          "height": 594
        },
        "outputId": "d764ce35-01c4-4779-aaf6-3088c063ad72"
      },
      "execution_count": null,
      "outputs": [
        {
          "output_type": "display_data",
          "data": {
            "text/plain": [
              "<Figure size 1000x600 with 1 Axes>"
            ],
            "image/png": "[encoded data removed]"
          },
          "metadata": {}
        }
      ]
    }
  ]
}